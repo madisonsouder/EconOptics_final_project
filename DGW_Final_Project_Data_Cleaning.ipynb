{
 "cells": [
  {
   "cell_type": "markdown",
   "id": "40f28dfe-b78e-4029-83d2-249291d5d4f0",
   "metadata": {},
   "source": [
    "### Loading Libraries and Datasets"
   ]
  },
  {
   "cell_type": "markdown",
   "id": "9ea1ee8f-9fb5-4986-872a-54fd3dd888d8",
   "metadata": {},
   "source": [
    "#### Libraries:"
   ]
  },
  {
   "cell_type": "code",
   "execution_count": 2,
   "id": "80f7885b-f30a-45ea-8e13-a82df0d4b5b3",
   "metadata": {},
   "outputs": [],
   "source": [
    "import pandas as pd # Reads, writes, shapes, manipulates data\n",
    "import numpy as np # Basic stats and numerical operations\n",
    "import matplotlib.pyplot as plt # Creating basic graphs"
   ]
  },
  {
   "cell_type": "markdown",
   "id": "a1d7fcad-20f5-42b7-9d18-764bfaba6148",
   "metadata": {},
   "source": [
    "#### Datasets:"
   ]
  },
  {
   "cell_type": "code",
   "execution_count": 2,
   "id": "90f44497-3a16-41a0-8fa2-1a30f4a1eb3e",
   "metadata": {},
   "outputs": [],
   "source": [
    "#Cost of Living dataset\n",
    "cost = pd.read_csv(\"Cost_of_Living_and_Income_Extended.csv\", delimiter = \",\")\n",
    "\n",
    "#World Happiness Ranking dataset\n",
    "happy = pd.read_excel(\"Data+for+Figure+2.1+(2011–2024).xlsx\")"
   ]
  },
  {
   "cell_type": "markdown",
   "id": "7c587b7c-e479-46ee-a4fb-6f8378371694",
   "metadata": {},
   "source": [
    "### Exploring the Datasets"
   ]
  },
  {
   "cell_type": "code",
   "execution_count": 3,
   "id": "bbef35a1-902a-4cd9-89c9-702995a20399",
   "metadata": {},
   "outputs": [
    {
     "name": "stdout",
     "output_type": "stream",
     "text": [
      "<class 'pandas.core.frame.DataFrame'>\n",
      "RangeIndex: 500 entries, 0 to 499\n",
      "Data columns (total 11 columns):\n",
      " #   Column                          Non-Null Count  Dtype  \n",
      "---  ------                          --------------  -----  \n",
      " 0   Country                         500 non-null    object \n",
      " 1   Year                            500 non-null    int64  \n",
      " 2   Average_Monthly_Income          500 non-null    float64\n",
      " 3   Cost_of_Living                  500 non-null    float64\n",
      " 4   Housing_Cost_Percentage         500 non-null    float64\n",
      " 5   Tax_Rate                        500 non-null    float64\n",
      " 6   Savings_Percentage              500 non-null    float64\n",
      " 7   Healthcare_Cost_Percentage      500 non-null    float64\n",
      " 8   Education_Cost_Percentage       500 non-null    float64\n",
      " 9   Transportation_Cost_Percentage  500 non-null    float64\n",
      " 10  Region                          500 non-null    object \n",
      "dtypes: float64(8), int64(1), object(2)\n",
      "memory usage: 43.1+ KB\n",
      "None\n",
      "<class 'pandas.core.frame.DataFrame'>\n",
      "RangeIndex: 1969 entries, 0 to 1968\n",
      "Data columns (total 13 columns):\n",
      " #   Column                                      Non-Null Count  Dtype  \n",
      "---  ------                                      --------------  -----  \n",
      " 0   Year                                        1969 non-null   int64  \n",
      " 1   Rank                                        1969 non-null   int64  \n",
      " 2   Country name                                1969 non-null   object \n",
      " 3   Ladder score                                1969 non-null   float64\n",
      " 4   upperwhisker                                875 non-null    float64\n",
      " 5   lowerwhisker                                875 non-null    float64\n",
      " 6   Explained by: Log GDP per capita            872 non-null    float64\n",
      " 7   Explained by: Social support                872 non-null    float64\n",
      " 8   Explained by: Healthy life expectancy       870 non-null    float64\n",
      " 9   Explained by: Freedom to make life choices  871 non-null    float64\n",
      " 10  Explained by: Generosity                    872 non-null    float64\n",
      " 11  Explained by: Perceptions of corruption     871 non-null    float64\n",
      " 12  Dystopia + residual                         868 non-null    float64\n",
      "dtypes: float64(10), int64(2), object(1)\n",
      "memory usage: 200.1+ KB\n",
      "None\n"
     ]
    }
   ],
   "source": [
    "print(cost.info()) #Prints the columns, Non-Null count and the datatype\n",
    "print(happy.info()) #Prints the columns, Non-Null count and the datatype"
   ]
  },
  {
   "cell_type": "markdown",
   "id": "c0c441eb-fe74-4d8c-9e34-cb3c24d5f4f5",
   "metadata": {},
   "source": [
    "The cost of living dataset has 500 entries and no NaN values. The World happiness ranking has 1969 entries and NaN values."
   ]
  },
  {
   "cell_type": "code",
   "execution_count": 4,
   "id": "466b70e1-1599-4f59-9720-04cea6f415d9",
   "metadata": {},
   "outputs": [
    {
     "name": "stdout",
     "output_type": "stream",
     "text": [
      "        Country  Year  Average_Monthly_Income  Cost_of_Living  \\\n",
      "0     Australia  2013                 3483.92         1106.07   \n",
      "1         India  2019                 7771.03         5422.78   \n",
      "2        Russia  2004                 6991.30         3972.36   \n",
      "3  South Africa  2011                 6628.04         6755.75   \n",
      "4        Brazil  2015                 2434.27         2656.36   \n",
      "\n",
      "   Housing_Cost_Percentage  Tax_Rate  Savings_Percentage  \\\n",
      "0                    32.09     27.50                1.74   \n",
      "1                    25.21     29.30                3.35   \n",
      "2                    40.85     22.94               15.48   \n",
      "3                    30.38     15.69                8.03   \n",
      "4                    49.27     12.44               25.06   \n",
      "\n",
      "   Healthcare_Cost_Percentage  Education_Cost_Percentage  \\\n",
      "0                       18.23                       6.94   \n",
      "1                       17.21                      12.42   \n",
      "2                       15.28                       7.10   \n",
      "3                        6.66                      11.76   \n",
      "4                        9.34                       3.63   \n",
      "\n",
      "   Transportation_Cost_Percentage         Region  \n",
      "0                           17.19        Oceania  \n",
      "1                            9.90           Asia  \n",
      "2                            9.59         Europe  \n",
      "3                           11.04         Africa  \n",
      "4                           15.09  South America  \n",
      "   Year  Rank Country name  Ladder score  upperwhisker  lowerwhisker  \\\n",
      "0  2024     1      Finland         7.736         7.810         7.662   \n",
      "1  2023   143  Afghanistan         1.721         1.775         1.667   \n",
      "2  2022   137  Afghanistan         1.859         1.923         1.795   \n",
      "3  2021   146  Afghanistan         2.404         2.469         2.339   \n",
      "4  2020   150  Afghanistan         2.523         2.596         2.449   \n",
      "\n",
      "   Explained by: Log GDP per capita  Explained by: Social support  \\\n",
      "0                             1.749                         1.783   \n",
      "1                             0.628                         0.000   \n",
      "2                             0.645                         0.000   \n",
      "3                             0.758                         0.000   \n",
      "4                             0.370                         0.000   \n",
      "\n",
      "   Explained by: Healthy life expectancy  \\\n",
      "0                                  0.824   \n",
      "1                                  0.242   \n",
      "2                                  0.087   \n",
      "3                                  0.289   \n",
      "4                                  0.126   \n",
      "\n",
      "   Explained by: Freedom to make life choices  Explained by: Generosity  \\\n",
      "0                                       0.986                     0.110   \n",
      "1                                       0.000                     0.091   \n",
      "2                                       0.000                     0.093   \n",
      "3                                       0.000                     0.089   \n",
      "4                                       0.000                     0.122   \n",
      "\n",
      "   Explained by: Perceptions of corruption  Dystopia + residual  \n",
      "0                                    0.502                1.782  \n",
      "1                                    0.088                0.672  \n",
      "2                                    0.059                0.976  \n",
      "3                                    0.005                1.263  \n",
      "4                                    0.010                1.895  \n"
     ]
    }
   ],
   "source": [
    "print(cost.head()) #Prints the first 5 data entires\n",
    "print(happy.head()) #Prints the first 5 data entires"
   ]
  },
  {
   "cell_type": "markdown",
   "id": "78738bd2-e167-4e25-a0bc-079a1285dcfc",
   "metadata": {},
   "source": [
    "### Cleaning the Datasets"
   ]
  },
  {
   "cell_type": "markdown",
   "id": "48b913a1-39bb-4d55-8f84-e64ae042cf2d",
   "metadata": {},
   "source": [
    "#### Column Names:"
   ]
  },
  {
   "cell_type": "code",
   "execution_count": 5,
   "id": "f139c0cc-8651-43ef-9f9b-3b1a4789438a",
   "metadata": {},
   "outputs": [
    {
     "name": "stdout",
     "output_type": "stream",
     "text": [
      "Index(['Country', 'Year', 'Average_Monthly_Income', 'Cost_of_Living',\n",
      "       'Housing_Cost_Percentage', 'Tax_Rate', 'Savings_Percentage',\n",
      "       'Healthcare_Cost_Percentage', 'Education_Cost_Percentage',\n",
      "       'Transportation_Cost_Percentage', 'Region'],\n",
      "      dtype='object')\n",
      "Index(['Year', 'Rank', 'Country name', 'Ladder score', 'upperwhisker',\n",
      "       'lowerwhisker', 'Explained by: Log GDP per capita',\n",
      "       'Explained by: Social support', 'Explained by: Healthy life expectancy',\n",
      "       'Explained by: Freedom to make life choices',\n",
      "       'Explained by: Generosity', 'Explained by: Perceptions of corruption',\n",
      "       'Dystopia + residual'],\n",
      "      dtype='object')\n"
     ]
    }
   ],
   "source": [
    "#The columns need to be lowercase and underscores in place of spaces\n",
    "print(cost.columns)\n",
    "print(happy.columns)"
   ]
  },
  {
   "cell_type": "code",
   "execution_count": 6,
   "id": "d74d26fd-6e4d-4dcd-b527-cc787c3d1186",
   "metadata": {},
   "outputs": [
    {
     "name": "stdout",
     "output_type": "stream",
     "text": [
      "Index(['country', 'year', 'average_monthly_income', 'cost_of_living',\n",
      "       'housing_cost_percentage', 'tax_rate', 'savings_percentage',\n",
      "       'healthcare_cost_percentage', 'education_cost_percentage',\n",
      "       'transportation_cost_percentage', 'region'],\n",
      "      dtype='object')\n"
     ]
    }
   ],
   "source": [
    "#Cost Dataset\n",
    "cost.columns = cost.columns.str.lower()\n",
    "print(cost.columns)"
   ]
  },
  {
   "cell_type": "code",
   "execution_count": 7,
   "id": "9e9da605-76b9-40e6-8dad-decf14af59ac",
   "metadata": {},
   "outputs": [
    {
     "name": "stdout",
     "output_type": "stream",
     "text": [
      "Index(['year', 'happiness_rank', 'country', 'happiness_score', 'upperwhisker',\n",
      "       'lowerwhisker', 'explained_by_log_gdp_per_capita',\n",
      "       'explained_by_social_support', 'explained_by_healthy_life_expectancy',\n",
      "       'explained_by_freedom_to_make_life_choices', 'explained_by_generosity',\n",
      "       'explained_by_perceptions of corruptions', 'dystopia_and_residual'],\n",
      "      dtype='object')\n"
     ]
    }
   ],
   "source": [
    "#Happiness Dataset\n",
    "happy.rename(columns = {\"Year\": \"year\", \"Rank\": \"happiness_rank\", \"Country name\": \"country\", \"Ladder score\": \"happiness_score\", \n",
    "                        \"Explained by: Log GDP per capita\": \"explained_by_log_gdp_per_capita\", \n",
    "                        \"Explained by: Social support\": \"explained_by_social_support\", \n",
    "                        \"Explained by: Healthy life expectancy\": \"explained_by_healthy_life_expectancy\",\n",
    "                        \"Explained by: Freedom to make life choices\": \"explained_by_freedom_to_make_life_choices\", \n",
    "                        \"Explained by: Generosity\": \"explained_by_generosity\", \n",
    "                        \"Explained by: Perceptions of corruption\": \"explained_by_perceptions of corruptions\", \n",
    "                        \"Dystopia + residual\": \"dystopia_and_residual\"}, inplace = True)\n",
    "print(happy.columns)"
   ]
  },
  {
   "cell_type": "markdown",
   "id": "c220ca22-bf24-4bee-914d-7072ba1cb565",
   "metadata": {},
   "source": [
    "#### NaNs:"
   ]
  },
  {
   "cell_type": "markdown",
   "id": "0a8b72d1-9bd0-40fa-b720-f4160f5a5b85",
   "metadata": {},
   "source": [
    "**World Happiness Data:**"
   ]
  },
  {
   "cell_type": "code",
   "execution_count": 8,
   "id": "1a25e1a1-cc2b-4070-8690-808e5e75a2bf",
   "metadata": {},
   "outputs": [
    {
     "name": "stdout",
     "output_type": "stream",
     "text": [
      "year                                            0\n",
      "happiness_rank                                  0\n",
      "country                                         0\n",
      "happiness_score                                 0\n",
      "upperwhisker                                 1094\n",
      "lowerwhisker                                 1094\n",
      "explained_by_log_gdp_per_capita              1097\n",
      "explained_by_social_support                  1097\n",
      "explained_by_healthy_life_expectancy         1099\n",
      "explained_by_freedom_to_make_life_choices    1098\n",
      "explained_by_generosity                      1097\n",
      "explained_by_perceptions of corruptions      1098\n",
      "dystopia_and_residual                        1101\n",
      "dtype: int64\n"
     ]
    }
   ],
   "source": [
    "print(happy.isna().sum()) #Sums and prints the NaN for each column"
   ]
  },
  {
   "cell_type": "markdown",
   "id": "661246bd-9fba-4ced-bfc5-d0c08dbff637",
   "metadata": {},
   "source": [
    "I am going to leave the NaNs for now. How we deciceded to combine this data with the cost of living data will determine what NaNs should be removed. The main information, year, country, happiness rank and happiness_score have no NaNs."
   ]
  },
  {
   "cell_type": "markdown",
   "id": "7be08a90-f78f-4c40-bf83-662510292b53",
   "metadata": {},
   "source": [
    "#### Unique Entries and Typos: "
   ]
  },
  {
   "cell_type": "markdown",
   "id": "adfa4c31-40fa-46e1-baa6-b2c4b0a39ae8",
   "metadata": {},
   "source": [
    "**Cost of Living Data:**"
   ]
  },
  {
   "cell_type": "code",
   "execution_count": 9,
   "id": "3b4c21fb-6ecb-43f9-9572-ef8cd8d3531a",
   "metadata": {},
   "outputs": [
    {
     "data": {
      "text/plain": [
       "['Australia',\n",
       " 'Brazil',\n",
       " 'Canada',\n",
       " 'China',\n",
       " 'France',\n",
       " 'Germany',\n",
       " 'India',\n",
       " 'Japan',\n",
       " 'Mexico',\n",
       " 'Russia',\n",
       " 'South Africa',\n",
       " 'United States']"
      ]
     },
     "execution_count": 9,
     "metadata": {},
     "output_type": "execute_result"
    }
   ],
   "source": [
    "#Country Column\n",
    "sorted(cost[\"country\"].unique()) #Sorts the unique values in alphabetical order"
   ]
  },
  {
   "cell_type": "code",
   "execution_count": 10,
   "id": "3a1602ae-5f73-4186-b70e-fe37962a5923",
   "metadata": {},
   "outputs": [
    {
     "data": {
      "text/plain": [
       "[2000,\n",
       " 2001,\n",
       " 2002,\n",
       " 2003,\n",
       " 2004,\n",
       " 2005,\n",
       " 2006,\n",
       " 2007,\n",
       " 2008,\n",
       " 2009,\n",
       " 2010,\n",
       " 2011,\n",
       " 2012,\n",
       " 2013,\n",
       " 2014,\n",
       " 2015,\n",
       " 2016,\n",
       " 2017,\n",
       " 2018,\n",
       " 2019,\n",
       " 2020,\n",
       " 2021,\n",
       " 2022,\n",
       " 2023]"
      ]
     },
     "execution_count": 10,
     "metadata": {},
     "output_type": "execute_result"
    }
   ],
   "source": [
    "#Year Column\n",
    "sorted(cost[\"year\"].unique()) #Sorts the unique values in ascending order"
   ]
  },
  {
   "cell_type": "code",
   "execution_count": 11,
   "id": "df5cb44a-d162-402d-88bf-cc446f1a6a48",
   "metadata": {},
   "outputs": [
    {
     "data": {
      "text/plain": [
       "['Africa', 'Asia', 'Europe', 'North America', 'Oceania', 'South America']"
      ]
     },
     "execution_count": 11,
     "metadata": {},
     "output_type": "execute_result"
    }
   ],
   "source": [
    "#Region Column\n",
    "sorted(cost[\"region\"].unique()) #Sorts the unique values in alphabetical order"
   ]
  },
  {
   "cell_type": "markdown",
   "id": "f0d11383-21d9-4e78-8f23-b2977dcd6283",
   "metadata": {},
   "source": [
    "**World Happiness Data:**"
   ]
  },
  {
   "cell_type": "code",
   "execution_count": 12,
   "id": "7d6191e9-de39-4123-9f43-5f342494bd38",
   "metadata": {},
   "outputs": [
    {
     "data": {
      "text/plain": [
       "[2011, 2012, 2014, 2015, 2016, 2017, 2018, 2019, 2020, 2021, 2022, 2023, 2024]"
      ]
     },
     "execution_count": 12,
     "metadata": {},
     "output_type": "execute_result"
    }
   ],
   "source": [
    "#Year column\n",
    "sorted(happy[\"year\"].unique()) #Sorts the unique values in ascending order"
   ]
  },
  {
   "cell_type": "code",
   "execution_count": 13,
   "id": "a94e9348-dd82-4df1-a370-8fff3f4dc883",
   "metadata": {},
   "outputs": [
    {
     "data": {
      "text/plain": [
       "[1,\n",
       " 2,\n",
       " 3,\n",
       " 4,\n",
       " 5,\n",
       " 6,\n",
       " 7,\n",
       " 8,\n",
       " 9,\n",
       " 10,\n",
       " 11,\n",
       " 12,\n",
       " 13,\n",
       " 14,\n",
       " 15,\n",
       " 16,\n",
       " 17,\n",
       " 18,\n",
       " 19,\n",
       " 20,\n",
       " 21,\n",
       " 22,\n",
       " 23,\n",
       " 24,\n",
       " 25,\n",
       " 26,\n",
       " 27,\n",
       " 28,\n",
       " 29,\n",
       " 30,\n",
       " 31,\n",
       " 32,\n",
       " 33,\n",
       " 34,\n",
       " 35,\n",
       " 36,\n",
       " 37,\n",
       " 38,\n",
       " 39,\n",
       " 40,\n",
       " 41,\n",
       " 42,\n",
       " 43,\n",
       " 44,\n",
       " 45,\n",
       " 46,\n",
       " 47,\n",
       " 48,\n",
       " 49,\n",
       " 50,\n",
       " 51,\n",
       " 52,\n",
       " 53,\n",
       " 54,\n",
       " 55,\n",
       " 56,\n",
       " 57,\n",
       " 58,\n",
       " 59,\n",
       " 60,\n",
       " 61,\n",
       " 62,\n",
       " 63,\n",
       " 64,\n",
       " 65,\n",
       " 66,\n",
       " 67,\n",
       " 68,\n",
       " 69,\n",
       " 70,\n",
       " 71,\n",
       " 72,\n",
       " 73,\n",
       " 74,\n",
       " 75,\n",
       " 76,\n",
       " 77,\n",
       " 78,\n",
       " 79,\n",
       " 80,\n",
       " 81,\n",
       " 82,\n",
       " 83,\n",
       " 84,\n",
       " 85,\n",
       " 86,\n",
       " 87,\n",
       " 88,\n",
       " 89,\n",
       " 90,\n",
       " 91,\n",
       " 92,\n",
       " 93,\n",
       " 94,\n",
       " 95,\n",
       " 96,\n",
       " 97,\n",
       " 98,\n",
       " 99,\n",
       " 100,\n",
       " 101,\n",
       " 102,\n",
       " 103,\n",
       " 104,\n",
       " 105,\n",
       " 106,\n",
       " 107,\n",
       " 108,\n",
       " 109,\n",
       " 110,\n",
       " 111,\n",
       " 112,\n",
       " 113,\n",
       " 114,\n",
       " 115,\n",
       " 116,\n",
       " 117,\n",
       " 118,\n",
       " 119,\n",
       " 120,\n",
       " 121,\n",
       " 122,\n",
       " 123,\n",
       " 124,\n",
       " 125,\n",
       " 126,\n",
       " 127,\n",
       " 128,\n",
       " 129,\n",
       " 130,\n",
       " 131,\n",
       " 132,\n",
       " 133,\n",
       " 134,\n",
       " 135,\n",
       " 136,\n",
       " 137,\n",
       " 138,\n",
       " 139,\n",
       " 140,\n",
       " 141,\n",
       " 142,\n",
       " 143,\n",
       " 144,\n",
       " 145,\n",
       " 146,\n",
       " 147,\n",
       " 148,\n",
       " 149,\n",
       " 150,\n",
       " 151,\n",
       " 152,\n",
       " 153,\n",
       " 154,\n",
       " 155,\n",
       " 156,\n",
       " 157,\n",
       " 158]"
      ]
     },
     "execution_count": 13,
     "metadata": {},
     "output_type": "execute_result"
    }
   ],
   "source": [
    "#Rank Column\n",
    "sorted(happy[\"happiness_rank\"].unique()) #Sorts the unique values in ascending order"
   ]
  },
  {
   "cell_type": "code",
   "execution_count": 14,
   "id": "03bea74b-89cc-443e-95ea-add847eaae04",
   "metadata": {},
   "outputs": [
    {
     "data": {
      "text/plain": [
       "['Afghanistan',\n",
       " 'Albania',\n",
       " 'Algeria',\n",
       " 'Angola',\n",
       " 'Argentina',\n",
       " 'Armenia',\n",
       " 'Australia',\n",
       " 'Austria',\n",
       " 'Azerbaijan',\n",
       " 'Bahrain',\n",
       " 'Bangladesh',\n",
       " 'Belarus',\n",
       " 'Belgium',\n",
       " 'Belize',\n",
       " 'Benin',\n",
       " 'Bhutan',\n",
       " 'Bolivia',\n",
       " 'Bosnia and Herzegovina',\n",
       " 'Botswana',\n",
       " 'Brazil',\n",
       " 'Bulgaria',\n",
       " 'Burkina Faso',\n",
       " 'Burundi',\n",
       " 'Cambodia',\n",
       " 'Cameroon',\n",
       " 'Canada',\n",
       " 'Central African Republic',\n",
       " 'Chad',\n",
       " 'Chile',\n",
       " 'China',\n",
       " 'Colombia',\n",
       " 'Comoros',\n",
       " 'Congo',\n",
       " 'Costa Rica',\n",
       " 'Croatia',\n",
       " 'Cuba',\n",
       " 'Cyprus',\n",
       " 'Czechia',\n",
       " 'Côte d’Ivoire',\n",
       " 'DR Congo',\n",
       " 'Denmark',\n",
       " 'Djibouti',\n",
       " 'Dominican Republic',\n",
       " 'Ecuador',\n",
       " 'Egypt',\n",
       " 'El Salvador',\n",
       " 'Estonia',\n",
       " 'Eswatini',\n",
       " 'Ethiopia',\n",
       " 'Finland',\n",
       " 'France',\n",
       " 'Gabon',\n",
       " 'Gambia',\n",
       " 'Georgia',\n",
       " 'Germany',\n",
       " 'Ghana',\n",
       " 'Greece',\n",
       " 'Guatemala',\n",
       " 'Guinea',\n",
       " 'Guyana',\n",
       " 'Haiti',\n",
       " 'Honduras',\n",
       " 'Hong Kong SAR of China',\n",
       " 'Hungary',\n",
       " 'Iceland',\n",
       " 'India',\n",
       " 'Indonesia',\n",
       " 'Iran',\n",
       " 'Iraq',\n",
       " 'Ireland',\n",
       " 'Israel',\n",
       " 'Italy',\n",
       " 'Jamaica',\n",
       " 'Japan',\n",
       " 'Jordan',\n",
       " 'Kazakhstan',\n",
       " 'Kenya',\n",
       " 'Kosovo',\n",
       " 'Kuwait',\n",
       " 'Kyrgyzstan',\n",
       " 'Lao PDR',\n",
       " 'Latvia',\n",
       " 'Lebanon',\n",
       " 'Lesotho',\n",
       " 'Liberia',\n",
       " 'Libya',\n",
       " 'Lithuania',\n",
       " 'Luxembourg',\n",
       " 'Macedonia',\n",
       " 'Madagascar',\n",
       " 'Malawi',\n",
       " 'Malaysia',\n",
       " 'Maldives',\n",
       " 'Mali',\n",
       " 'Malta',\n",
       " 'Mauritania',\n",
       " 'Mauritius',\n",
       " 'Mexico',\n",
       " 'Mongolia',\n",
       " 'Montenegro',\n",
       " 'Morocco',\n",
       " 'Mozambique',\n",
       " 'Myanmar',\n",
       " 'Namibia',\n",
       " 'Nepal',\n",
       " 'Netherlands',\n",
       " 'New Zealand',\n",
       " 'Nicaragua',\n",
       " 'Niger',\n",
       " 'Nigeria',\n",
       " 'North Cyprus',\n",
       " 'North Macedonia',\n",
       " 'Norway',\n",
       " 'Oman',\n",
       " 'Pakistan',\n",
       " 'Panama',\n",
       " 'Paraguay',\n",
       " 'Peru',\n",
       " 'Philippines',\n",
       " 'Poland',\n",
       " 'Portugal',\n",
       " 'Puerto Rico',\n",
       " 'Qatar',\n",
       " 'Republic of Korea',\n",
       " 'Republic of Moldova',\n",
       " 'Romania',\n",
       " 'Russian Federation',\n",
       " 'Rwanda',\n",
       " 'Saudi Arabia',\n",
       " 'Senegal',\n",
       " 'Serbia',\n",
       " 'Sierra Leone',\n",
       " 'Singapore',\n",
       " 'Slovakia',\n",
       " 'Slovenia',\n",
       " 'Somalia',\n",
       " 'Somaliland Region',\n",
       " 'South Africa',\n",
       " 'South Sudan',\n",
       " 'Spain',\n",
       " 'Sri Lanka',\n",
       " 'State of Palestine',\n",
       " 'Sudan',\n",
       " 'Suriname',\n",
       " 'Swaziland',\n",
       " 'Sweden',\n",
       " 'Switzerland',\n",
       " 'Syria',\n",
       " 'Taiwan Province of China',\n",
       " 'Tajikistan',\n",
       " 'Tanzania',\n",
       " 'Thailand',\n",
       " 'Togo',\n",
       " 'Trinidad and Tobago',\n",
       " 'Tunisia',\n",
       " 'Turkmenistan',\n",
       " 'Türkiye',\n",
       " 'Uganda',\n",
       " 'Ukraine',\n",
       " 'United Arab Emirates',\n",
       " 'United Kingdom',\n",
       " 'United States',\n",
       " 'Uruguay',\n",
       " 'Uzbekistan',\n",
       " 'Venezuela',\n",
       " 'Viet Nam',\n",
       " 'Yemen',\n",
       " 'Zambia',\n",
       " 'Zimbabwe']"
      ]
     },
     "execution_count": 14,
     "metadata": {},
     "output_type": "execute_result"
    }
   ],
   "source": [
    "#Country Column\n",
    "sorted(happy[\"country\"].unique())"
   ]
  },
  {
   "cell_type": "markdown",
   "id": "cfd29170-50a0-4d27-9aec-0422523c1016",
   "metadata": {},
   "source": [
    "#### Outliers and Errors:"
   ]
  },
  {
   "cell_type": "markdown",
   "id": "e191815b-3006-4c24-a247-78802e15f7a9",
   "metadata": {},
   "source": [
    "**Cost of Living Data:**"
   ]
  },
  {
   "cell_type": "code",
   "execution_count": 15,
   "id": "3e7f79c9-438b-441a-a9ff-6b0cf2dbb498",
   "metadata": {},
   "outputs": [
    {
     "data": {
      "text/html": [
       "<div>\n",
       "<style scoped>\n",
       "    .dataframe tbody tr th:only-of-type {\n",
       "        vertical-align: middle;\n",
       "    }\n",
       "\n",
       "    .dataframe tbody tr th {\n",
       "        vertical-align: top;\n",
       "    }\n",
       "\n",
       "    .dataframe thead th {\n",
       "        text-align: right;\n",
       "    }\n",
       "</style>\n",
       "<table border=\"1\" class=\"dataframe\">\n",
       "  <thead>\n",
       "    <tr style=\"text-align: right;\">\n",
       "      <th></th>\n",
       "      <th>average_monthly_income</th>\n",
       "      <th>cost_of_living</th>\n",
       "      <th>housing_cost_percentage</th>\n",
       "      <th>tax_rate</th>\n",
       "      <th>savings_percentage</th>\n",
       "      <th>healthcare_cost_percentage</th>\n",
       "      <th>education_cost_percentage</th>\n",
       "      <th>transportation_cost_percentage</th>\n",
       "    </tr>\n",
       "  </thead>\n",
       "  <tbody>\n",
       "    <tr>\n",
       "      <th>count</th>\n",
       "      <td>500.000000</td>\n",
       "      <td>500.00000</td>\n",
       "      <td>500.000000</td>\n",
       "      <td>500.000000</td>\n",
       "      <td>500.00000</td>\n",
       "      <td>500.000000</td>\n",
       "      <td>500.000000</td>\n",
       "      <td>500.000000</td>\n",
       "    </tr>\n",
       "    <tr>\n",
       "      <th>mean</th>\n",
       "      <td>4291.248240</td>\n",
       "      <td>3716.23212</td>\n",
       "      <td>34.973700</td>\n",
       "      <td>22.400900</td>\n",
       "      <td>14.92708</td>\n",
       "      <td>12.381820</td>\n",
       "      <td>8.408440</td>\n",
       "      <td>12.475940</td>\n",
       "    </tr>\n",
       "    <tr>\n",
       "      <th>std</th>\n",
       "      <td>2179.217333</td>\n",
       "      <td>1922.16053</td>\n",
       "      <td>8.657032</td>\n",
       "      <td>10.025412</td>\n",
       "      <td>8.81321</td>\n",
       "      <td>4.269823</td>\n",
       "      <td>3.775455</td>\n",
       "      <td>4.219147</td>\n",
       "    </tr>\n",
       "    <tr>\n",
       "      <th>min</th>\n",
       "      <td>534.740000</td>\n",
       "      <td>432.60000</td>\n",
       "      <td>20.100000</td>\n",
       "      <td>5.000000</td>\n",
       "      <td>0.00000</td>\n",
       "      <td>5.010000</td>\n",
       "      <td>2.000000</td>\n",
       "      <td>5.060000</td>\n",
       "    </tr>\n",
       "    <tr>\n",
       "      <th>25%</th>\n",
       "      <td>2322.360000</td>\n",
       "      <td>1967.79000</td>\n",
       "      <td>27.235000</td>\n",
       "      <td>14.742500</td>\n",
       "      <td>7.52500</td>\n",
       "      <td>8.487500</td>\n",
       "      <td>5.285000</td>\n",
       "      <td>8.752500</td>\n",
       "    </tr>\n",
       "    <tr>\n",
       "      <th>50%</th>\n",
       "      <td>4391.585000</td>\n",
       "      <td>3803.20500</td>\n",
       "      <td>35.170000</td>\n",
       "      <td>22.275000</td>\n",
       "      <td>14.95000</td>\n",
       "      <td>12.365000</td>\n",
       "      <td>8.245000</td>\n",
       "      <td>12.665000</td>\n",
       "    </tr>\n",
       "    <tr>\n",
       "      <th>75%</th>\n",
       "      <td>6233.757500</td>\n",
       "      <td>5265.96750</td>\n",
       "      <td>42.567500</td>\n",
       "      <td>30.905000</td>\n",
       "      <td>22.42750</td>\n",
       "      <td>16.222500</td>\n",
       "      <td>11.595000</td>\n",
       "      <td>15.952500</td>\n",
       "    </tr>\n",
       "    <tr>\n",
       "      <th>max</th>\n",
       "      <td>7984.510000</td>\n",
       "      <td>6996.13000</td>\n",
       "      <td>49.950000</td>\n",
       "      <td>39.920000</td>\n",
       "      <td>29.84000</td>\n",
       "      <td>19.990000</td>\n",
       "      <td>14.940000</td>\n",
       "      <td>19.970000</td>\n",
       "    </tr>\n",
       "  </tbody>\n",
       "</table>\n",
       "</div>"
      ],
      "text/plain": [
       "       average_monthly_income  cost_of_living  housing_cost_percentage  \\\n",
       "count              500.000000       500.00000               500.000000   \n",
       "mean              4291.248240      3716.23212                34.973700   \n",
       "std               2179.217333      1922.16053                 8.657032   \n",
       "min                534.740000       432.60000                20.100000   \n",
       "25%               2322.360000      1967.79000                27.235000   \n",
       "50%               4391.585000      3803.20500                35.170000   \n",
       "75%               6233.757500      5265.96750                42.567500   \n",
       "max               7984.510000      6996.13000                49.950000   \n",
       "\n",
       "         tax_rate  savings_percentage  healthcare_cost_percentage  \\\n",
       "count  500.000000           500.00000                  500.000000   \n",
       "mean    22.400900            14.92708                   12.381820   \n",
       "std     10.025412             8.81321                    4.269823   \n",
       "min      5.000000             0.00000                    5.010000   \n",
       "25%     14.742500             7.52500                    8.487500   \n",
       "50%     22.275000            14.95000                   12.365000   \n",
       "75%     30.905000            22.42750                   16.222500   \n",
       "max     39.920000            29.84000                   19.990000   \n",
       "\n",
       "       education_cost_percentage  transportation_cost_percentage  \n",
       "count                 500.000000                      500.000000  \n",
       "mean                    8.408440                       12.475940  \n",
       "std                     3.775455                        4.219147  \n",
       "min                     2.000000                        5.060000  \n",
       "25%                     5.285000                        8.752500  \n",
       "50%                     8.245000                       12.665000  \n",
       "75%                    11.595000                       15.952500  \n",
       "max                    14.940000                       19.970000  "
      ]
     },
     "execution_count": 15,
     "metadata": {},
     "output_type": "execute_result"
    }
   ],
   "source": [
    "cost_num = cost.select_dtypes(include = \"float64\") #Pulls the numeric columns into their own dataframe\n",
    "cost_num.describe()"
   ]
  },
  {
   "cell_type": "markdown",
   "id": "d4457ef8-61d5-470c-b2c6-96d2e57c5bca",
   "metadata": {},
   "source": [
    "There are no obvious outliers or errors but I will make boxplots to confirm."
   ]
  },
  {
   "cell_type": "code",
   "execution_count": 16,
   "id": "50721bac-db15-4917-b88f-a1ced012d66f",
   "metadata": {},
   "outputs": [
    {
     "data": {
      "image/png": "[encoded data removed]",
      "text/plain": [
       "<Figure size 640x480 with 1 Axes>"
      ]
     },
     "metadata": {},
     "output_type": "display_data"
    }
   ],
   "source": [
    "cost_num[[\"average_monthly_income\", \"cost_of_living\"]].boxplot()\n",
    "plt.title(\"Monthly Income and Cost of Living Boxplot\")\n",
    "plt.show()"
   ]
  },
  {
   "cell_type": "code",
   "execution_count": 17,
   "id": "f905bf1e-742e-4710-9e48-c46eaf46cd3e",
   "metadata": {},
   "outputs": [
    {
     "data": {
      "image/png": "[encoded data removed]",
      "text/plain": [
       "<Figure size 640x480 with 1 Axes>"
      ]
     },
     "metadata": {},
     "output_type": "display_data"
    }
   ],
   "source": [
    "cost_num[[\"housing_cost_percentage\", \"tax_rate\", \"savings_percentage\", \"healthcare_cost_percentage\",\t\n",
    "          \"education_cost_percentage\", \"transportation_cost_percentage\"]].boxplot(vert=False)\n",
    "plt.title(\"Boxplot of cost percentage\")\n",
    "plt.show()"
   ]
  },
  {
   "cell_type": "markdown",
   "id": "a94ca2a1-1ff3-4f53-aa77-d5af3eae112d",
   "metadata": {},
   "source": [
    "**World Happiness Data:**"
   ]
  },
  {
   "cell_type": "code",
   "execution_count": 18,
   "id": "c46bd3b3-0e40-4011-8598-9c6e0c335b79",
   "metadata": {},
   "outputs": [
    {
     "data": {
      "text/html": [
       "<div>\n",
       "<style scoped>\n",
       "    .dataframe tbody tr th:only-of-type {\n",
       "        vertical-align: middle;\n",
       "    }\n",
       "\n",
       "    .dataframe tbody tr th {\n",
       "        vertical-align: top;\n",
       "    }\n",
       "\n",
       "    .dataframe thead th {\n",
       "        text-align: right;\n",
       "    }\n",
       "</style>\n",
       "<table border=\"1\" class=\"dataframe\">\n",
       "  <thead>\n",
       "    <tr style=\"text-align: right;\">\n",
       "      <th></th>\n",
       "      <th>happiness_score</th>\n",
       "      <th>upperwhisker</th>\n",
       "      <th>lowerwhisker</th>\n",
       "      <th>explained_by_log_gdp_per_capita</th>\n",
       "      <th>explained_by_social_support</th>\n",
       "      <th>explained_by_healthy_life_expectancy</th>\n",
       "      <th>explained_by_freedom_to_make_life_choices</th>\n",
       "      <th>explained_by_generosity</th>\n",
       "      <th>explained_by_perceptions of corruptions</th>\n",
       "      <th>dystopia_and_residual</th>\n",
       "    </tr>\n",
       "  </thead>\n",
       "  <tbody>\n",
       "    <tr>\n",
       "      <th>count</th>\n",
       "      <td>1969.000000</td>\n",
       "      <td>875.000000</td>\n",
       "      <td>875.000000</td>\n",
       "      <td>872.000000</td>\n",
       "      <td>872.000000</td>\n",
       "      <td>870.000000</td>\n",
       "      <td>871.000000</td>\n",
       "      <td>872.000000</td>\n",
       "      <td>871.000000</td>\n",
       "      <td>868.000000</td>\n",
       "    </tr>\n",
       "    <tr>\n",
       "      <th>mean</th>\n",
       "      <td>5.451903</td>\n",
       "      <td>5.648684</td>\n",
       "      <td>5.418734</td>\n",
       "      <td>1.220279</td>\n",
       "      <td>1.078536</td>\n",
       "      <td>0.542915</td>\n",
       "      <td>0.563730</td>\n",
       "      <td>0.154261</td>\n",
       "      <td>0.144356</td>\n",
       "      <td>1.832778</td>\n",
       "    </tr>\n",
       "    <tr>\n",
       "      <th>std</th>\n",
       "      <td>1.121864</td>\n",
       "      <td>1.103939</td>\n",
       "      <td>1.139063</td>\n",
       "      <td>0.463448</td>\n",
       "      <td>0.355057</td>\n",
       "      <td>0.222944</td>\n",
       "      <td>0.180204</td>\n",
       "      <td>0.086731</td>\n",
       "      <td>0.120290</td>\n",
       "      <td>0.628796</td>\n",
       "    </tr>\n",
       "    <tr>\n",
       "      <th>min</th>\n",
       "      <td>1.364000</td>\n",
       "      <td>1.427000</td>\n",
       "      <td>1.301000</td>\n",
       "      <td>0.000000</td>\n",
       "      <td>0.000000</td>\n",
       "      <td>0.000000</td>\n",
       "      <td>0.000000</td>\n",
       "      <td>0.000000</td>\n",
       "      <td>0.000000</td>\n",
       "      <td>-0.110000</td>\n",
       "    </tr>\n",
       "    <tr>\n",
       "      <th>25%</th>\n",
       "      <td>4.596000</td>\n",
       "      <td>4.885000</td>\n",
       "      <td>4.638164</td>\n",
       "      <td>0.901355</td>\n",
       "      <td>0.850750</td>\n",
       "      <td>0.383000</td>\n",
       "      <td>0.450527</td>\n",
       "      <td>0.092000</td>\n",
       "      <td>0.062000</td>\n",
       "      <td>1.455000</td>\n",
       "    </tr>\n",
       "    <tr>\n",
       "      <th>50%</th>\n",
       "      <td>5.456200</td>\n",
       "      <td>5.775000</td>\n",
       "      <td>5.529000</td>\n",
       "      <td>1.263500</td>\n",
       "      <td>1.106699</td>\n",
       "      <td>0.555000</td>\n",
       "      <td>0.571000</td>\n",
       "      <td>0.140500</td>\n",
       "      <td>0.113000</td>\n",
       "      <td>1.854000</td>\n",
       "    </tr>\n",
       "    <tr>\n",
       "      <th>75%</th>\n",
       "      <td>6.295000</td>\n",
       "      <td>6.458500</td>\n",
       "      <td>6.254000</td>\n",
       "      <td>1.567000</td>\n",
       "      <td>1.361000</td>\n",
       "      <td>0.704750</td>\n",
       "      <td>0.676000</td>\n",
       "      <td>0.205000</td>\n",
       "      <td>0.180000</td>\n",
       "      <td>2.237078</td>\n",
       "    </tr>\n",
       "    <tr>\n",
       "      <th>max</th>\n",
       "      <td>7.856000</td>\n",
       "      <td>7.904000</td>\n",
       "      <td>7.780000</td>\n",
       "      <td>2.209000</td>\n",
       "      <td>1.840000</td>\n",
       "      <td>1.137814</td>\n",
       "      <td>1.018000</td>\n",
       "      <td>0.569814</td>\n",
       "      <td>0.587000</td>\n",
       "      <td>3.482000</td>\n",
       "    </tr>\n",
       "  </tbody>\n",
       "</table>\n",
       "</div>"
      ],
      "text/plain": [
       "       happiness_score  upperwhisker  lowerwhisker  \\\n",
       "count      1969.000000    875.000000    875.000000   \n",
       "mean          5.451903      5.648684      5.418734   \n",
       "std           1.121864      1.103939      1.139063   \n",
       "min           1.364000      1.427000      1.301000   \n",
       "25%           4.596000      4.885000      4.638164   \n",
       "50%           5.456200      5.775000      5.529000   \n",
       "75%           6.295000      6.458500      6.254000   \n",
       "max           7.856000      7.904000      7.780000   \n",
       "\n",
       "       explained_by_log_gdp_per_capita  explained_by_social_support  \\\n",
       "count                       872.000000                   872.000000   \n",
       "mean                          1.220279                     1.078536   \n",
       "std                           0.463448                     0.355057   \n",
       "min                           0.000000                     0.000000   \n",
       "25%                           0.901355                     0.850750   \n",
       "50%                           1.263500                     1.106699   \n",
       "75%                           1.567000                     1.361000   \n",
       "max                           2.209000                     1.840000   \n",
       "\n",
       "       explained_by_healthy_life_expectancy  \\\n",
       "count                            870.000000   \n",
       "mean                               0.542915   \n",
       "std                                0.222944   \n",
       "min                                0.000000   \n",
       "25%                                0.383000   \n",
       "50%                                0.555000   \n",
       "75%                                0.704750   \n",
       "max                                1.137814   \n",
       "\n",
       "       explained_by_freedom_to_make_life_choices  explained_by_generosity  \\\n",
       "count                                 871.000000               872.000000   \n",
       "mean                                    0.563730                 0.154261   \n",
       "std                                     0.180204                 0.086731   \n",
       "min                                     0.000000                 0.000000   \n",
       "25%                                     0.450527                 0.092000   \n",
       "50%                                     0.571000                 0.140500   \n",
       "75%                                     0.676000                 0.205000   \n",
       "max                                     1.018000                 0.569814   \n",
       "\n",
       "       explained_by_perceptions of corruptions  dystopia_and_residual  \n",
       "count                               871.000000             868.000000  \n",
       "mean                                  0.144356               1.832778  \n",
       "std                                   0.120290               0.628796  \n",
       "min                                   0.000000              -0.110000  \n",
       "25%                                   0.062000               1.455000  \n",
       "50%                                   0.113000               1.854000  \n",
       "75%                                   0.180000               2.237078  \n",
       "max                                   0.587000               3.482000  "
      ]
     },
     "execution_count": 18,
     "metadata": {},
     "output_type": "execute_result"
    }
   ],
   "source": [
    "happy_num = happy.select_dtypes(include = \"float64\") #Pulls the numeric columns into their own dataframe\n",
    "happy_num.describe()"
   ]
  },
  {
   "cell_type": "markdown",
   "id": "a94e8763-e720-4003-8982-b1dcfd7fc4d5",
   "metadata": {},
   "source": [
    "There does not appear to be any obvious outliers but I will make box plots to double check."
   ]
  },
  {
   "cell_type": "code",
   "execution_count": 19,
   "id": "63e9fc27-9416-4f7d-878d-7fce25e1fbd9",
   "metadata": {},
   "outputs": [
    {
     "data": {
      "image/png": "[encoded data removed]",
      "text/plain": [
       "<Figure size 640x480 with 1 Axes>"
      ]
     },
     "metadata": {},
     "output_type": "display_data"
    }
   ],
   "source": [
    "plt.boxplot(happy_num[\"happiness_score\"])\n",
    "plt.title(\"Happiness Score Boxplot\")\n",
    "plt.show()"
   ]
  },
  {
   "cell_type": "code",
   "execution_count": 20,
   "id": "16ca5c6c-4255-4576-81ca-519502b7033d",
   "metadata": {},
   "outputs": [
    {
     "data": {
      "image/png": "[encoded data removed]",
      "text/plain": [
       "<Figure size 640x480 with 1 Axes>"
      ]
     },
     "metadata": {},
     "output_type": "display_data"
    }
   ],
   "source": [
    "happy_num[[\"explained_by_log_gdp_per_capita\", \"explained_by_social_support\", \"explained_by_healthy_life_expectancy\",\n",
    "           \"explained_by_freedom_to_make_life_choices\",\t\"explained_by_generosity\", \"explained_by_perceptions of corruptions\", \n",
    "           \"dystopia_and_residual\"]].boxplot(vert = False)\n",
    "plt.title(\"Happiness Statistics Boxplot\")\n",
    "plt.show()"
   ]
  },
  {
   "cell_type": "markdown",
   "id": "4c571094-23e6-4729-809c-83cb42fe3af2",
   "metadata": {},
   "source": [
    "There are outliers in all columns except explained by log GDP per capita and explained by healthy life expectancy. None of these outliers are too extreme with a possible exception with the dystopia and residual column. Dystopia is what the World Happiness Report uses as their worst country baseline. It stands in for a fictional country that scores the worst it can in all the other six categories. Residuals are included to explain how the happiness score either under-represents or over-represents a country's happiness. Because not all of these columns will be used, including the dystopia and residuals column, I will leave the outliers as they are."
   ]
  },
  {
   "cell_type": "markdown",
   "id": "04d3b45e-3881-4492-a45f-c8fe2c682d97",
   "metadata": {},
   "source": [
    "#### Saving the Cleaned Data"
   ]
  },
  {
   "cell_type": "code",
   "execution_count": 22,
   "id": "391087bd-f778-46d5-98dc-b212d54fe26b",
   "metadata": {},
   "outputs": [],
   "source": [
    "cost.to_csv(\"Cost_of_Living_and_Income_clean.csv\", index=False)\n",
    "happy.to_csv(\"World_Happiness_Rank_clean.csv\", index=False)"
   ]
  },
  {
   "cell_type": "markdown",
   "id": "22c96de0-95fa-4130-893f-c064ecca6339",
   "metadata": {},
   "source": [
    "#### Combining the Datasets"
   ]
  },
  {
   "cell_type": "markdown",
   "id": "6e14b88d-74bc-42a4-802d-784226d98cfe",
   "metadata": {},
   "source": [
    "First I am going to pull the columns from the World Happiness Data set that we would want to include in our database."
   ]
  },
  {
   "cell_type": "code",
   "execution_count": 60,
   "id": "385bd448-3112-4bb3-b120-3a0bd11e08b6",
   "metadata": {},
   "outputs": [],
   "source": [
    "happy_database = happy[[\"year\", \"happiness_rank\", \"country\", \"happiness_score\", \"upperwhisker\", \"lowerwhisker\", \"explained_by_log_gdp_per_capita\"]]\n",
    "    #The desired columns from the World Happiness Data"
   ]
  },
  {
   "cell_type": "code",
   "execution_count": 61,
   "id": "f6ed8eda-6f33-4415-bbaa-fe0b67744d35",
   "metadata": {},
   "outputs": [
    {
     "name": "stdout",
     "output_type": "stream",
     "text": [
      "        country  year  average_monthly_income  cost_of_living  \\\n",
      "0     Australia  2013                 3483.92         1106.07   \n",
      "1         India  2019                 7771.03         5422.78   \n",
      "2        Russia  2004                 6991.30         3972.36   \n",
      "3  South Africa  2011                 6628.04         6755.75   \n",
      "4        Brazil  2015                 2434.27         2656.36   \n",
      "\n",
      "   housing_cost_percentage  tax_rate  savings_percentage  \\\n",
      "0                    32.09     27.50                1.74   \n",
      "1                    25.21     29.30                3.35   \n",
      "2                    40.85     22.94               15.48   \n",
      "3                    30.38     15.69                8.03   \n",
      "4                    49.27     12.44               25.06   \n",
      "\n",
      "   healthcare_cost_percentage  education_cost_percentage  \\\n",
      "0                       18.23                       6.94   \n",
      "1                       17.21                      12.42   \n",
      "2                       15.28                       7.10   \n",
      "3                        6.66                      11.76   \n",
      "4                        9.34                       3.63   \n",
      "\n",
      "   transportation_cost_percentage         region  happiness_rank  \\\n",
      "0                           17.19        Oceania             NaN   \n",
      "1                            9.90           Asia           144.0   \n",
      "2                            9.59         Europe             NaN   \n",
      "3                           11.04         Africa            90.0   \n",
      "4                           15.09  South America            17.0   \n",
      "\n",
      "   happiness_score  upperwhisker  lowerwhisker  \\\n",
      "0              NaN           NaN           NaN   \n",
      "1           3.5733      3.627596      3.519003   \n",
      "2              NaN           NaN           NaN   \n",
      "3           5.1010           NaN           NaN   \n",
      "4           6.9520           NaN           NaN   \n",
      "\n",
      "   explained_by_log_gdp_per_capita  \n",
      "0                              NaN  \n",
      "1                         0.730576  \n",
      "2                              NaN  \n",
      "3                              NaN  \n",
      "4                              NaN  \n"
     ]
    }
   ],
   "source": [
    "cost_happy = pd.merge(cost, happy_database, on = [\"year\", \"country\"], how = \"left\") #Merges the data sets to the left based on year and country\n",
    "print(cost_happy.head())"
   ]
  },
  {
   "cell_type": "markdown",
   "id": "9e116db7-ffa5-4f75-86b0-f2e510dbc031",
   "metadata": {},
   "source": [
    "In this merge, I kept all of the rows from the cost of living dataset and only merged the rows from the World Happiness ranking dataset that had matching records for year and country. I did this because the cost of living dataset only included 12 countries and the World Happiness ranking includes almost every country. <br>\n",
    "I am going to reorder the columns to make it easier to interpret. "
   ]
  },
  {
   "cell_type": "code",
   "execution_count": 62,
   "id": "44b599b5-f199-44f2-945b-6fd138b9765f",
   "metadata": {},
   "outputs": [
    {
     "data": {
      "text/plain": [
       "Index(['country', 'year', 'average_monthly_income', 'cost_of_living',\n",
       "       'housing_cost_percentage', 'tax_rate', 'savings_percentage',\n",
       "       'healthcare_cost_percentage', 'education_cost_percentage',\n",
       "       'transportation_cost_percentage', 'region', 'happiness_rank',\n",
       "       'happiness_score', 'upperwhisker', 'lowerwhisker',\n",
       "       'explained_by_log_gdp_per_capita'],\n",
       "      dtype='object')"
      ]
     },
     "execution_count": 62,
     "metadata": {},
     "output_type": "execute_result"
    }
   ],
   "source": [
    "cost_happy.columns #Takes a look a the column names"
   ]
  },
  {
   "cell_type": "code",
   "execution_count": 63,
   "id": "69d07bbe-1a8c-497e-afe0-fc45e6d0e212",
   "metadata": {},
   "outputs": [
    {
     "name": "stdout",
     "output_type": "stream",
     "text": [
      "<class 'pandas.core.frame.DataFrame'>\n",
      "RangeIndex: 500 entries, 0 to 499\n",
      "Data columns (total 16 columns):\n",
      " #   Column                           Non-Null Count  Dtype  \n",
      "---  ------                           --------------  -----  \n",
      " 0   country                          500 non-null    object \n",
      " 1   region                           500 non-null    object \n",
      " 2   year                             500 non-null    int64  \n",
      " 3   happiness_rank                   244 non-null    float64\n",
      " 4   average_monthly_income           500 non-null    float64\n",
      " 5   cost_of_living                   500 non-null    float64\n",
      " 6   tax_rate                         500 non-null    float64\n",
      " 7   housing_cost_percentage          500 non-null    float64\n",
      " 8   healthcare_cost_percentage       500 non-null    float64\n",
      " 9   education_cost_percentage        500 non-null    float64\n",
      " 10  transportation_cost_percentage   500 non-null    float64\n",
      " 11  savings_percentage               500 non-null    float64\n",
      " 12  happiness_score                  244 non-null    float64\n",
      " 13  upperwhisker                     96 non-null     float64\n",
      " 14  lowerwhisker                     96 non-null     float64\n",
      " 15  explained_by_log_gdp_per_capita  96 non-null     float64\n",
      "dtypes: float64(13), int64(1), object(2)\n",
      "memory usage: 62.6+ KB\n",
      "None\n"
     ]
    }
   ],
   "source": [
    "cost_happy = cost_happy [[\"country\", \"region\", \"year\", \"happiness_rank\", \"average_monthly_income\", \"cost_of_living\", \"tax_rate\", \"housing_cost_percentage\", \n",
    "                          \"healthcare_cost_percentage\", \"education_cost_percentage\", \"transportation_cost_percentage\", \"savings_percentage\", \n",
    "                          \"happiness_score\", \"upperwhisker\", \"lowerwhisker\", \"explained_by_log_gdp_per_capita\"]] #Re-orders the columns\n",
    "print(cost_happy.info())"
   ]
  },
  {
   "cell_type": "markdown",
   "id": "bac467a0-4cef-4dbc-8c9a-3d0ca46366cd",
   "metadata": {},
   "source": [
    "The limited information from the upperwhisker, lowerwhisker, and explained by log GDP per capita columns makes me realize that it is not a good addition to the data. "
   ]
  },
  {
   "cell_type": "code",
   "execution_count": 64,
   "id": "616376df-c98f-4399-b730-c9a24be9f77a",
   "metadata": {},
   "outputs": [
    {
     "data": {
      "text/html": [
       "<div>\n",
       "<style scoped>\n",
       "    .dataframe tbody tr th:only-of-type {\n",
       "        vertical-align: middle;\n",
       "    }\n",
       "\n",
       "    .dataframe tbody tr th {\n",
       "        vertical-align: top;\n",
       "    }\n",
       "\n",
       "    .dataframe thead th {\n",
       "        text-align: right;\n",
       "    }\n",
       "</style>\n",
       "<table border=\"1\" class=\"dataframe\">\n",
       "  <thead>\n",
       "    <tr style=\"text-align: right;\">\n",
       "      <th></th>\n",
       "      <th>country</th>\n",
       "      <th>region</th>\n",
       "      <th>year</th>\n",
       "      <th>happiness_rank</th>\n",
       "      <th>average_monthly_income</th>\n",
       "      <th>cost_of_living</th>\n",
       "      <th>tax_rate</th>\n",
       "      <th>housing_cost_percentage</th>\n",
       "      <th>healthcare_cost_percentage</th>\n",
       "      <th>education_cost_percentage</th>\n",
       "      <th>transportation_cost_percentage</th>\n",
       "      <th>savings_percentage</th>\n",
       "      <th>happiness_score</th>\n",
       "    </tr>\n",
       "  </thead>\n",
       "  <tbody>\n",
       "    <tr>\n",
       "      <th>0</th>\n",
       "      <td>Australia</td>\n",
       "      <td>Oceania</td>\n",
       "      <td>2013</td>\n",
       "      <td>NaN</td>\n",
       "      <td>3483.92</td>\n",
       "      <td>1106.07</td>\n",
       "      <td>27.50</td>\n",
       "      <td>32.09</td>\n",
       "      <td>18.23</td>\n",
       "      <td>6.94</td>\n",
       "      <td>17.19</td>\n",
       "      <td>1.74</td>\n",
       "      <td>NaN</td>\n",
       "    </tr>\n",
       "    <tr>\n",
       "      <th>1</th>\n",
       "      <td>India</td>\n",
       "      <td>Asia</td>\n",
       "      <td>2019</td>\n",
       "      <td>144.0</td>\n",
       "      <td>7771.03</td>\n",
       "      <td>5422.78</td>\n",
       "      <td>29.30</td>\n",
       "      <td>25.21</td>\n",
       "      <td>17.21</td>\n",
       "      <td>12.42</td>\n",
       "      <td>9.90</td>\n",
       "      <td>3.35</td>\n",
       "      <td>3.5733</td>\n",
       "    </tr>\n",
       "    <tr>\n",
       "      <th>2</th>\n",
       "      <td>Russia</td>\n",
       "      <td>Europe</td>\n",
       "      <td>2004</td>\n",
       "      <td>NaN</td>\n",
       "      <td>6991.30</td>\n",
       "      <td>3972.36</td>\n",
       "      <td>22.94</td>\n",
       "      <td>40.85</td>\n",
       "      <td>15.28</td>\n",
       "      <td>7.10</td>\n",
       "      <td>9.59</td>\n",
       "      <td>15.48</td>\n",
       "      <td>NaN</td>\n",
       "    </tr>\n",
       "    <tr>\n",
       "      <th>3</th>\n",
       "      <td>South Africa</td>\n",
       "      <td>Africa</td>\n",
       "      <td>2011</td>\n",
       "      <td>90.0</td>\n",
       "      <td>6628.04</td>\n",
       "      <td>6755.75</td>\n",
       "      <td>15.69</td>\n",
       "      <td>30.38</td>\n",
       "      <td>6.66</td>\n",
       "      <td>11.76</td>\n",
       "      <td>11.04</td>\n",
       "      <td>8.03</td>\n",
       "      <td>5.1010</td>\n",
       "    </tr>\n",
       "    <tr>\n",
       "      <th>4</th>\n",
       "      <td>Brazil</td>\n",
       "      <td>South America</td>\n",
       "      <td>2015</td>\n",
       "      <td>17.0</td>\n",
       "      <td>2434.27</td>\n",
       "      <td>2656.36</td>\n",
       "      <td>12.44</td>\n",
       "      <td>49.27</td>\n",
       "      <td>9.34</td>\n",
       "      <td>3.63</td>\n",
       "      <td>15.09</td>\n",
       "      <td>25.06</td>\n",
       "      <td>6.9520</td>\n",
       "    </tr>\n",
       "  </tbody>\n",
       "</table>\n",
       "</div>"
      ],
      "text/plain": [
       "        country         region  year  happiness_rank  average_monthly_income  \\\n",
       "0     Australia        Oceania  2013             NaN                 3483.92   \n",
       "1         India           Asia  2019           144.0                 7771.03   \n",
       "2        Russia         Europe  2004             NaN                 6991.30   \n",
       "3  South Africa         Africa  2011            90.0                 6628.04   \n",
       "4        Brazil  South America  2015            17.0                 2434.27   \n",
       "\n",
       "   cost_of_living  tax_rate  housing_cost_percentage  \\\n",
       "0         1106.07     27.50                    32.09   \n",
       "1         5422.78     29.30                    25.21   \n",
       "2         3972.36     22.94                    40.85   \n",
       "3         6755.75     15.69                    30.38   \n",
       "4         2656.36     12.44                    49.27   \n",
       "\n",
       "   healthcare_cost_percentage  education_cost_percentage  \\\n",
       "0                       18.23                       6.94   \n",
       "1                       17.21                      12.42   \n",
       "2                       15.28                       7.10   \n",
       "3                        6.66                      11.76   \n",
       "4                        9.34                       3.63   \n",
       "\n",
       "   transportation_cost_percentage  savings_percentage  happiness_score  \n",
       "0                           17.19                1.74              NaN  \n",
       "1                            9.90                3.35           3.5733  \n",
       "2                            9.59               15.48              NaN  \n",
       "3                           11.04                8.03           5.1010  \n",
       "4                           15.09               25.06           6.9520  "
      ]
     },
     "execution_count": 64,
     "metadata": {},
     "output_type": "execute_result"
    }
   ],
   "source": [
    "cost_happy = cost_happy.drop(columns = [\"upperwhisker\", \"lowerwhisker\", \"explained_by_log_gdp_per_capita\"]) #Drops the columns\n",
    "cost_happy.head()"
   ]
  },
  {
   "cell_type": "code",
   "execution_count": 65,
   "id": "98f88f0a-0485-4f2d-a0b6-21a04704cd2d",
   "metadata": {},
   "outputs": [
    {
     "name": "stdout",
     "output_type": "stream",
     "text": [
      "<class 'pandas.core.frame.DataFrame'>\n",
      "RangeIndex: 500 entries, 0 to 499\n",
      "Data columns (total 13 columns):\n",
      " #   Column                          Non-Null Count  Dtype  \n",
      "---  ------                          --------------  -----  \n",
      " 0   country                         500 non-null    object \n",
      " 1   region                          500 non-null    object \n",
      " 2   year                            500 non-null    int64  \n",
      " 3   happiness_rank                  244 non-null    float64\n",
      " 4   average_monthly_income          500 non-null    float64\n",
      " 5   cost_of_living                  500 non-null    float64\n",
      " 6   tax_rate                        500 non-null    float64\n",
      " 7   housing_cost_percentage         500 non-null    float64\n",
      " 8   healthcare_cost_percentage      500 non-null    float64\n",
      " 9   education_cost_percentage       500 non-null    float64\n",
      " 10  transportation_cost_percentage  500 non-null    float64\n",
      " 11  savings_percentage              500 non-null    float64\n",
      " 12  happiness_score                 244 non-null    float64\n",
      "dtypes: float64(10), int64(1), object(2)\n",
      "memory usage: 50.9+ KB\n"
     ]
    }
   ],
   "source": [
    "cost_happy.info() #Re-examining the dataset"
   ]
  },
  {
   "cell_type": "code",
   "execution_count": 66,
   "id": "6c286744-9960-4453-8a32-2919727f25be",
   "metadata": {},
   "outputs": [
    {
     "name": "stdout",
     "output_type": "stream",
     "text": [
      "<class 'pandas.core.frame.DataFrame'>\n",
      "Index: 278 entries, 0 to 498\n",
      "Data columns (total 13 columns):\n",
      " #   Column                          Non-Null Count  Dtype  \n",
      "---  ------                          --------------  -----  \n",
      " 0   country                         278 non-null    object \n",
      " 1   region                          278 non-null    object \n",
      " 2   year                            278 non-null    int64  \n",
      " 3   happiness_rank                  244 non-null    float64\n",
      " 4   average_monthly_income          278 non-null    float64\n",
      " 5   cost_of_living                  278 non-null    float64\n",
      " 6   tax_rate                        278 non-null    float64\n",
      " 7   housing_cost_percentage         278 non-null    float64\n",
      " 8   healthcare_cost_percentage      278 non-null    float64\n",
      " 9   education_cost_percentage       278 non-null    float64\n",
      " 10  transportation_cost_percentage  278 non-null    float64\n",
      " 11  savings_percentage              278 non-null    float64\n",
      " 12  happiness_score                 244 non-null    float64\n",
      "dtypes: float64(10), int64(1), object(2)\n",
      "memory usage: 30.4+ KB\n",
      "None\n",
      "<class 'pandas.core.frame.DataFrame'>\n",
      "Index: 222 entries, 2 to 499\n",
      "Data columns (total 13 columns):\n",
      " #   Column                          Non-Null Count  Dtype  \n",
      "---  ------                          --------------  -----  \n",
      " 0   country                         222 non-null    object \n",
      " 1   region                          222 non-null    object \n",
      " 2   year                            222 non-null    int64  \n",
      " 3   happiness_rank                  0 non-null      float64\n",
      " 4   average_monthly_income          222 non-null    float64\n",
      " 5   cost_of_living                  222 non-null    float64\n",
      " 6   tax_rate                        222 non-null    float64\n",
      " 7   housing_cost_percentage         222 non-null    float64\n",
      " 8   healthcare_cost_percentage      222 non-null    float64\n",
      " 9   education_cost_percentage       222 non-null    float64\n",
      " 10  transportation_cost_percentage  222 non-null    float64\n",
      " 11  savings_percentage              222 non-null    float64\n",
      " 12  happiness_score                 0 non-null      float64\n",
      "dtypes: float64(10), int64(1), object(2)\n",
      "memory usage: 24.3+ KB\n",
      "None\n"
     ]
    }
   ],
   "source": [
    "after_2010 = cost_happy[cost_happy[\"year\"] > 2010] #Pulls the data from the years 2011 onward\n",
    "print(after_2010.info()) #Prints the columns, Non-Null, and data type\n",
    "\n",
    "before_2011 = cost_happy[cost_happy[\"year\"] <= 2010] #Pulls the data from the years 2010 to 2000\n",
    "print(before_2011.info()) #Prints the columns, Non-Null, and data type"
   ]
  },
  {
   "cell_type": "markdown",
   "id": "92ad0efa-aed1-443f-873b-e3ba21b39486",
   "metadata": {},
   "source": [
    "The world happiness data only contians data from 2011 to 2024 which would explain NaNs in previous years. I will drop the NaNs from the years 2011 to 2024."
   ]
  },
  {
   "cell_type": "code",
   "execution_count": 72,
   "id": "a4957776-e6dd-4f3c-845e-39ac619c0e59",
   "metadata": {},
   "outputs": [
    {
     "name": "stdout",
     "output_type": "stream",
     "text": [
      "country                            0\n",
      "region                             0\n",
      "year                               0\n",
      "happiness_rank                    34\n",
      "average_monthly_income             0\n",
      "cost_of_living                     0\n",
      "tax_rate                           0\n",
      "housing_cost_percentage            0\n",
      "healthcare_cost_percentage         0\n",
      "education_cost_percentage          0\n",
      "transportation_cost_percentage     0\n",
      "savings_percentage                 0\n",
      "happiness_score                   34\n",
      "dtype: int64\n",
      "country                             0\n",
      "region                              0\n",
      "year                                0\n",
      "happiness_rank                    222\n",
      "average_monthly_income              0\n",
      "cost_of_living                      0\n",
      "tax_rate                            0\n",
      "housing_cost_percentage             0\n",
      "healthcare_cost_percentage          0\n",
      "education_cost_percentage           0\n",
      "transportation_cost_percentage      0\n",
      "savings_percentage                  0\n",
      "happiness_score                   222\n",
      "dtype: int64\n",
      "country                             0\n",
      "region                              0\n",
      "year                                0\n",
      "happiness_rank                    222\n",
      "average_monthly_income              0\n",
      "cost_of_living                      0\n",
      "tax_rate                            0\n",
      "housing_cost_percentage             0\n",
      "healthcare_cost_percentage          0\n",
      "education_cost_percentage           0\n",
      "transportation_cost_percentage      0\n",
      "savings_percentage                  0\n",
      "happiness_score                   222\n",
      "dtype: int64\n"
     ]
    }
   ],
   "source": [
    "print(after_2010.isna().sum()) #Prints the number of NaNs from 2011 to 2024\n",
    "print(before_2011.isna().sum()) #Prints the number of NaNs from 2000 to 2010\n",
    "    #34 rows should be removed and 222 NaN values should be left\n",
    "\n",
    "nan_rows = after_2010[after_2010.isna().any(axis=1)].index #Pulls the row index with the NaN values from the after 2010 data frame\n",
    "\n",
    "cost_happy = cost_happy.drop(nan_rows)\n",
    "print(cost_happy.isna().sum())\n",
    "print(cost_happy.info())"
   ]
  },
  {
   "cell_type": "markdown",
   "id": "7aa71d29-3600-4770-9b0e-57cc902aef4e",
   "metadata": {},
   "source": [
    "#### Saving the New Clean Dataset"
   ]
  },
  {
   "cell_type": "code",
   "execution_count": 5,
   "id": "3a915984-82f2-4db3-a5e2-8c8e8de8e94c",
   "metadata": {},
   "outputs": [
    {
     "name": "stdout",
     "output_type": "stream",
     "text": [
      "        country         region  year happiness_rank  average_monthly_income  \\\n",
      "0         India           Asia  2019          144.0                 7771.03   \n",
      "1        Russia         Europe  2004           None                 6991.30   \n",
      "2  South Africa         Africa  2011           90.0                 6628.04   \n",
      "3        Brazil  South America  2015           17.0                 2434.27   \n",
      "4     Australia        Oceania  2015            9.0                 1781.66   \n",
      "\n",
      "   cost_of_living  tax_rate  housing_cost_percentage  \\\n",
      "0         5422.78     29.30                    25.21   \n",
      "1         3972.36     22.94                    40.85   \n",
      "2         6755.75     15.69                    30.38   \n",
      "3         2656.36     12.44                    49.27   \n",
      "4         4575.30      6.16                    39.23   \n",
      "\n",
      "   healthcare_cost_percentage  education_cost_percentage  \\\n",
      "0                       17.21                      12.42   \n",
      "1                       15.28                       7.10   \n",
      "2                        6.66                      11.76   \n",
      "3                        9.34                       3.63   \n",
      "4                        9.65                      12.05   \n",
      "\n",
      "   transportation_cost_percentage  savings_percentage happiness_score  \n",
      "0                            9.90                3.35          3.5733  \n",
      "1                            9.59               15.48            None  \n",
      "2                           11.04                8.03           5.101  \n",
      "3                           15.09               25.06           6.952  \n",
      "4                           15.23                0.44           7.313  \n"
     ]
    }
   ],
   "source": [
    "cost_happy = pd.read_csv('Cost_of_Living_Happiness_Rank.csv')\n",
    "cost_happy = cost_happy.replace(np.nan, None)\n",
    "\n",
    "print(cost_happy.head())"
   ]
  },
  {
   "cell_type": "code",
   "execution_count": 6,
   "id": "84d9954c-dc68-4795-be1c-ccdc322c6923",
   "metadata": {},
   "outputs": [],
   "source": [
    "cost_happy.to_csv(\"Cost_of_Living_Happiness_Rank_2.csv\", index=False)"
   ]
  }
 ],
 "metadata": {
  "kernelspec": {
   "display_name": "Python 3 (ipykernel)",
   "language": "python",
   "name": "python3"
  },
  "language_info": {
   "codemirror_mode": {
    "name": "ipython",
    "version": 3
   },
   "file_extension": ".py",
   "mimetype": "text/x-python",
   "name": "python",
   "nbconvert_exporter": "python",
   "pygments_lexer": "ipython3",
   "version": "3.12.7"
  }
 },
 "nbformat": 4,
 "nbformat_minor": 5
}
